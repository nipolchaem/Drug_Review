{
  "nbformat": 4,
  "nbformat_minor": 0,
  "metadata": {
    "colab": {
      "name": "Drug_reviews_Sequecetoone.ipynb",
      "version": "0.3.2",
      "provenance": [],
      "collapsed_sections": [],
      "toc_visible": true
    },
    "kernelspec": {
      "name": "python3",
      "display_name": "Python 3"
    },
    "accelerator": "GPU"
  },
  "cells": [
    {
      "cell_type": "markdown",
      "metadata": {
        "id": "nH0zGHxW-sTT",
        "colab_type": "text"
      },
      "source": [
        "# Drug Review"
      ]
    },
    {
      "cell_type": "markdown",
      "metadata": {
        "id": "LOgVyNn2-sT3",
        "colab_type": "text"
      },
      "source": [
        "In this project, the grading machine will be created. This machine will read reviews from patients, and the outputs will be the rating that patients rated. There are four levels of scores, namely, bad (0), moderate (1), good (2), excellent (3). The machine is made from the recurrent neural network, known as LSTM. "
      ]
    },
    {
      "cell_type": "markdown",
      "metadata": {
        "id": "XpTqG3qq-sUF",
        "colab_type": "text"
      },
      "source": [
        "## Data Preprocessing"
      ]
    },
    {
      "cell_type": "markdown",
      "metadata": {
        "id": "iirmb90U-sUd",
        "colab_type": "text"
      },
      "source": [
        "### Importing the libraries"
      ]
    },
    {
      "cell_type": "code",
      "metadata": {
        "id": "mz9Cf388D3Bg",
        "colab_type": "code",
        "outputId": "a34e1169-c3b4-465e-8840-9efce482819d",
        "colab": {
          "base_uri": "https://localhost:8080/",
          "height": 74
        }
      },
      "source": [
        "from google.colab import drive\n",
        "drive.mount('/content/drive')"
      ],
      "execution_count": 2,
      "outputs": [
        {
          "output_type": "stream",
          "text": [
            "Drive already mounted at /content/drive; to attempt to forcibly remount, call drive.mount(\"/content/drive\", force_remount=True).\n"
          ],
          "name": "stdout"
        }
      ]
    },
    {
      "cell_type": "code",
      "metadata": {
        "id": "YP-ybF_Hmyxp",
        "colab_type": "code",
        "outputId": "11d27e77-3fdf-4cb7-c854-5cc8a3ac56d6",
        "colab": {
          "base_uri": "https://localhost:8080/",
          "height": 34
        }
      },
      "source": [
        "import tensorflow as tf\n",
        "print(tf.__version__)"
      ],
      "execution_count": 3,
      "outputs": [
        {
          "output_type": "stream",
          "text": [
            "1.14.0\n"
          ],
          "name": "stdout"
        }
      ]
    },
    {
      "cell_type": "code",
      "metadata": {
        "id": "nZtwc2eFm6UK",
        "colab_type": "code",
        "colab": {}
      },
      "source": [
        "#!pip install tensorflow==2.00-beta0"
      ],
      "execution_count": 0,
      "outputs": []
    },
    {
      "cell_type": "code",
      "metadata": {
        "id": "idXNcCig-sU7",
        "colab_type": "code",
        "colab": {}
      },
      "source": [
        "import numpy as np\n",
        "import matplotlib.pyplot as plt\n",
        "import pandas as pd"
      ],
      "execution_count": 0,
      "outputs": []
    },
    {
      "cell_type": "code",
      "metadata": {
        "id": "y4F9ud2XFXWX",
        "colab_type": "code",
        "colab": {}
      },
      "source": [
        "root_path = \"drive/My Drive/Drug_review\""
      ],
      "execution_count": 0,
      "outputs": []
    },
    {
      "cell_type": "markdown",
      "metadata": {
        "id": "GTzLJwNC-sVD",
        "colab_type": "text"
      },
      "source": [
        "### Importing the dataset"
      ]
    },
    {
      "cell_type": "code",
      "metadata": {
        "id": "-rVUfBzg-sVF",
        "colab_type": "code",
        "colab": {}
      },
      "source": [
        "Train = pd.read_csv(root_path+'/TrainingData.tsv',delimiter='\\t')"
      ],
      "execution_count": 0,
      "outputs": []
    },
    {
      "cell_type": "code",
      "metadata": {
        "id": "hiW7ymab-sVZ",
        "colab_type": "code",
        "colab": {}
      },
      "source": [
        "Test = pd.read_csv(root_path+'/TestData.tsv', delimiter = '\\t')"
      ],
      "execution_count": 0,
      "outputs": []
    },
    {
      "cell_type": "code",
      "metadata": {
        "id": "zbtzbmKb-sVe",
        "colab_type": "code",
        "outputId": "b61856b5-fca6-4508-a18f-01eedca836b1",
        "colab": {
          "base_uri": "https://localhost:8080/",
          "height": 34
        }
      },
      "source": [
        "len(Train)"
      ],
      "execution_count": 9,
      "outputs": [
        {
          "output_type": "execute_result",
          "data": {
            "text/plain": [
              "161297"
            ]
          },
          "metadata": {
            "tags": []
          },
          "execution_count": 9
        }
      ]
    },
    {
      "cell_type": "markdown",
      "metadata": {
        "id": "pEJZXc-O-sWC",
        "colab_type": "text"
      },
      "source": [
        "The number of sample is equal to 161297."
      ]
    },
    {
      "cell_type": "code",
      "metadata": {
        "id": "HwE3GMee-sWD",
        "colab_type": "code",
        "outputId": "4a60f622-eb32-4288-f031-af783a3195d7",
        "colab": {
          "base_uri": "https://localhost:8080/",
          "height": 34
        }
      },
      "source": [
        "len(Test)"
      ],
      "execution_count": 10,
      "outputs": [
        {
          "output_type": "execute_result",
          "data": {
            "text/plain": [
              "53766"
            ]
          },
          "metadata": {
            "tags": []
          },
          "execution_count": 10
        }
      ]
    },
    {
      "cell_type": "markdown",
      "metadata": {
        "id": "mSa6i8xG-sWK",
        "colab_type": "text"
      },
      "source": [
        "The number of test set is equal to 53766."
      ]
    },
    {
      "cell_type": "code",
      "metadata": {
        "id": "1UF8bRoc-sWL",
        "colab_type": "code",
        "outputId": "0fd35c36-dbd4-4fba-e1dd-c1200e1d7bc6",
        "colab": {
          "base_uri": "https://localhost:8080/",
          "height": 306
        }
      },
      "source": [
        "Train.head()"
      ],
      "execution_count": 11,
      "outputs": [
        {
          "output_type": "execute_result",
          "data": {
            "text/html": [
              "<div>\n",
              "<style scoped>\n",
              "    .dataframe tbody tr th:only-of-type {\n",
              "        vertical-align: middle;\n",
              "    }\n",
              "\n",
              "    .dataframe tbody tr th {\n",
              "        vertical-align: top;\n",
              "    }\n",
              "\n",
              "    .dataframe thead th {\n",
              "        text-align: right;\n",
              "    }\n",
              "</style>\n",
              "<table border=\"1\" class=\"dataframe\">\n",
              "  <thead>\n",
              "    <tr style=\"text-align: right;\">\n",
              "      <th></th>\n",
              "      <th>Unnamed: 0</th>\n",
              "      <th>drugName</th>\n",
              "      <th>condition</th>\n",
              "      <th>review</th>\n",
              "      <th>rating</th>\n",
              "      <th>date</th>\n",
              "      <th>usefulCount</th>\n",
              "    </tr>\n",
              "  </thead>\n",
              "  <tbody>\n",
              "    <tr>\n",
              "      <th>0</th>\n",
              "      <td>206461</td>\n",
              "      <td>Valsartan</td>\n",
              "      <td>Left Ventricular Dysfunction</td>\n",
              "      <td>\"It has no side effect, I take it in combinati...</td>\n",
              "      <td>9.0</td>\n",
              "      <td>May 20, 2012</td>\n",
              "      <td>27</td>\n",
              "    </tr>\n",
              "    <tr>\n",
              "      <th>1</th>\n",
              "      <td>95260</td>\n",
              "      <td>Guanfacine</td>\n",
              "      <td>ADHD</td>\n",
              "      <td>\"My son is halfway through his fourth week of ...</td>\n",
              "      <td>8.0</td>\n",
              "      <td>April 27, 2010</td>\n",
              "      <td>192</td>\n",
              "    </tr>\n",
              "    <tr>\n",
              "      <th>2</th>\n",
              "      <td>92703</td>\n",
              "      <td>Lybrel</td>\n",
              "      <td>Birth Control</td>\n",
              "      <td>\"I used to take another oral contraceptive, wh...</td>\n",
              "      <td>5.0</td>\n",
              "      <td>December 14, 2009</td>\n",
              "      <td>17</td>\n",
              "    </tr>\n",
              "    <tr>\n",
              "      <th>3</th>\n",
              "      <td>138000</td>\n",
              "      <td>Ortho Evra</td>\n",
              "      <td>Birth Control</td>\n",
              "      <td>\"This is my first time using any form of birth...</td>\n",
              "      <td>8.0</td>\n",
              "      <td>November 3, 2015</td>\n",
              "      <td>10</td>\n",
              "    </tr>\n",
              "    <tr>\n",
              "      <th>4</th>\n",
              "      <td>35696</td>\n",
              "      <td>Buprenorphine / naloxone</td>\n",
              "      <td>Opiate Dependence</td>\n",
              "      <td>\"Suboxone has completely turned my life around...</td>\n",
              "      <td>9.0</td>\n",
              "      <td>November 27, 2016</td>\n",
              "      <td>37</td>\n",
              "    </tr>\n",
              "  </tbody>\n",
              "</table>\n",
              "</div>"
            ],
            "text/plain": [
              "   Unnamed: 0                  drugName  ...               date usefulCount\n",
              "0      206461                 Valsartan  ...       May 20, 2012          27\n",
              "1       95260                Guanfacine  ...     April 27, 2010         192\n",
              "2       92703                    Lybrel  ...  December 14, 2009          17\n",
              "3      138000                Ortho Evra  ...   November 3, 2015          10\n",
              "4       35696  Buprenorphine / naloxone  ...  November 27, 2016          37\n",
              "\n",
              "[5 rows x 7 columns]"
            ]
          },
          "metadata": {
            "tags": []
          },
          "execution_count": 11
        }
      ]
    },
    {
      "cell_type": "code",
      "metadata": {
        "id": "a4lBFOJX-sWY",
        "colab_type": "code",
        "outputId": "a2dea65c-313c-4cfd-bc33-ca2885434676",
        "colab": {
          "base_uri": "https://localhost:8080/",
          "height": 306
        }
      },
      "source": [
        "Test.head()"
      ],
      "execution_count": 12,
      "outputs": [
        {
          "output_type": "execute_result",
          "data": {
            "text/html": [
              "<div>\n",
              "<style scoped>\n",
              "    .dataframe tbody tr th:only-of-type {\n",
              "        vertical-align: middle;\n",
              "    }\n",
              "\n",
              "    .dataframe tbody tr th {\n",
              "        vertical-align: top;\n",
              "    }\n",
              "\n",
              "    .dataframe thead th {\n",
              "        text-align: right;\n",
              "    }\n",
              "</style>\n",
              "<table border=\"1\" class=\"dataframe\">\n",
              "  <thead>\n",
              "    <tr style=\"text-align: right;\">\n",
              "      <th></th>\n",
              "      <th>Unnamed: 0</th>\n",
              "      <th>drugName</th>\n",
              "      <th>condition</th>\n",
              "      <th>review</th>\n",
              "      <th>rating</th>\n",
              "      <th>date</th>\n",
              "      <th>usefulCount</th>\n",
              "    </tr>\n",
              "  </thead>\n",
              "  <tbody>\n",
              "    <tr>\n",
              "      <th>0</th>\n",
              "      <td>163740</td>\n",
              "      <td>Mirtazapine</td>\n",
              "      <td>Depression</td>\n",
              "      <td>\"I&amp;#039;ve tried a few antidepressants over th...</td>\n",
              "      <td>10.0</td>\n",
              "      <td>February 28, 2012</td>\n",
              "      <td>22</td>\n",
              "    </tr>\n",
              "    <tr>\n",
              "      <th>1</th>\n",
              "      <td>206473</td>\n",
              "      <td>Mesalamine</td>\n",
              "      <td>Crohn's Disease, Maintenance</td>\n",
              "      <td>\"My son has Crohn&amp;#039;s disease and has done ...</td>\n",
              "      <td>8.0</td>\n",
              "      <td>May 17, 2009</td>\n",
              "      <td>17</td>\n",
              "    </tr>\n",
              "    <tr>\n",
              "      <th>2</th>\n",
              "      <td>159672</td>\n",
              "      <td>Bactrim</td>\n",
              "      <td>Urinary Tract Infection</td>\n",
              "      <td>\"Quick reduction of symptoms\"</td>\n",
              "      <td>9.0</td>\n",
              "      <td>September 29, 2017</td>\n",
              "      <td>3</td>\n",
              "    </tr>\n",
              "    <tr>\n",
              "      <th>3</th>\n",
              "      <td>39293</td>\n",
              "      <td>Contrave</td>\n",
              "      <td>Weight Loss</td>\n",
              "      <td>\"Contrave combines drugs that were used for al...</td>\n",
              "      <td>9.0</td>\n",
              "      <td>March 5, 2017</td>\n",
              "      <td>35</td>\n",
              "    </tr>\n",
              "    <tr>\n",
              "      <th>4</th>\n",
              "      <td>97768</td>\n",
              "      <td>Cyclafem 1 / 35</td>\n",
              "      <td>Birth Control</td>\n",
              "      <td>\"I have been on this birth control for one cyc...</td>\n",
              "      <td>9.0</td>\n",
              "      <td>October 22, 2015</td>\n",
              "      <td>4</td>\n",
              "    </tr>\n",
              "  </tbody>\n",
              "</table>\n",
              "</div>"
            ],
            "text/plain": [
              "   Unnamed: 0         drugName  ...                date usefulCount\n",
              "0      163740      Mirtazapine  ...   February 28, 2012          22\n",
              "1      206473       Mesalamine  ...        May 17, 2009          17\n",
              "2      159672          Bactrim  ...  September 29, 2017           3\n",
              "3       39293         Contrave  ...       March 5, 2017          35\n",
              "4       97768  Cyclafem 1 / 35  ...    October 22, 2015           4\n",
              "\n",
              "[5 rows x 7 columns]"
            ]
          },
          "metadata": {
            "tags": []
          },
          "execution_count": 12
        }
      ]
    },
    {
      "cell_type": "markdown",
      "metadata": {
        "id": "UH5dgNa9-sWq",
        "colab_type": "text"
      },
      "source": [
        "### Selecting the data"
      ]
    },
    {
      "cell_type": "markdown",
      "metadata": {
        "id": "SH5Wg_kW-sWr",
        "colab_type": "text"
      },
      "source": [
        "The review and rating columns will be selected from the whole columns of the dataset."
      ]
    },
    {
      "cell_type": "code",
      "metadata": {
        "id": "75DnzNi5-sWt",
        "colab_type": "code",
        "colab": {}
      },
      "source": [
        "Train = Train[['review','rating']]\n",
        "Test = Test[['review','rating']]"
      ],
      "execution_count": 0,
      "outputs": []
    },
    {
      "cell_type": "code",
      "metadata": {
        "id": "ZCumnhUj-sW7",
        "colab_type": "code",
        "outputId": "46ece7e4-2834-486a-a4c1-9b78ffd37bec",
        "colab": {
          "base_uri": "https://localhost:8080/",
          "height": 204
        }
      },
      "source": [
        "Train.head()"
      ],
      "execution_count": 14,
      "outputs": [
        {
          "output_type": "execute_result",
          "data": {
            "text/html": [
              "<div>\n",
              "<style scoped>\n",
              "    .dataframe tbody tr th:only-of-type {\n",
              "        vertical-align: middle;\n",
              "    }\n",
              "\n",
              "    .dataframe tbody tr th {\n",
              "        vertical-align: top;\n",
              "    }\n",
              "\n",
              "    .dataframe thead th {\n",
              "        text-align: right;\n",
              "    }\n",
              "</style>\n",
              "<table border=\"1\" class=\"dataframe\">\n",
              "  <thead>\n",
              "    <tr style=\"text-align: right;\">\n",
              "      <th></th>\n",
              "      <th>review</th>\n",
              "      <th>rating</th>\n",
              "    </tr>\n",
              "  </thead>\n",
              "  <tbody>\n",
              "    <tr>\n",
              "      <th>0</th>\n",
              "      <td>\"It has no side effect, I take it in combinati...</td>\n",
              "      <td>9.0</td>\n",
              "    </tr>\n",
              "    <tr>\n",
              "      <th>1</th>\n",
              "      <td>\"My son is halfway through his fourth week of ...</td>\n",
              "      <td>8.0</td>\n",
              "    </tr>\n",
              "    <tr>\n",
              "      <th>2</th>\n",
              "      <td>\"I used to take another oral contraceptive, wh...</td>\n",
              "      <td>5.0</td>\n",
              "    </tr>\n",
              "    <tr>\n",
              "      <th>3</th>\n",
              "      <td>\"This is my first time using any form of birth...</td>\n",
              "      <td>8.0</td>\n",
              "    </tr>\n",
              "    <tr>\n",
              "      <th>4</th>\n",
              "      <td>\"Suboxone has completely turned my life around...</td>\n",
              "      <td>9.0</td>\n",
              "    </tr>\n",
              "  </tbody>\n",
              "</table>\n",
              "</div>"
            ],
            "text/plain": [
              "                                              review  rating\n",
              "0  \"It has no side effect, I take it in combinati...     9.0\n",
              "1  \"My son is halfway through his fourth week of ...     8.0\n",
              "2  \"I used to take another oral contraceptive, wh...     5.0\n",
              "3  \"This is my first time using any form of birth...     8.0\n",
              "4  \"Suboxone has completely turned my life around...     9.0"
            ]
          },
          "metadata": {
            "tags": []
          },
          "execution_count": 14
        }
      ]
    },
    {
      "cell_type": "markdown",
      "metadata": {
        "id": "Ci1g__0T-sXA",
        "colab_type": "text"
      },
      "source": [
        "### Creating a function that cleans texts"
      ]
    },
    {
      "cell_type": "code",
      "metadata": {
        "id": "kCaXFT2t-sXB",
        "colab_type": "code",
        "colab": {}
      },
      "source": [
        "import re"
      ],
      "execution_count": 0,
      "outputs": []
    },
    {
      "cell_type": "code",
      "metadata": {
        "id": "qjr0cfkT-sXM",
        "colab_type": "code",
        "colab": {}
      },
      "source": [
        "def clean_text(text):\n",
        "    text = text.lower()\n",
        "    text = re.sub(r\"i'm\",\"i am\",text)\n",
        "    text = re.sub(r\"he's\",\"he is\",text)\n",
        "    text = re.sub(r\"she's\",\"she is\",text)\n",
        "    text = re.sub(r\"that's\",\"that is\",text)\n",
        "    text = re.sub(r\"what's\",\"what is\",text)\n",
        "    text = re.sub(r\"where's\",\"where is\",text)\n",
        "    text = re.sub(r\"\\'ll\",\" will\",text)\n",
        "    text = re.sub(r\"\\'ve\",\" have\",text)\n",
        "    text = re.sub(r\"\\'re\",\" are\",text)\n",
        "    text = re.sub(r\"\\'d'\",\" would\",text)\n",
        "    text = re.sub(r\"can't\",\"cannot\",text)\n",
        "    text = re.sub(r\"can't\",\"cannot\",text)\n",
        "    text = re.sub(r\"[-()\\\"#/@;:<>{}+=~|.?,]\", \"\", text)\n",
        "    return text"
      ],
      "execution_count": 0,
      "outputs": []
    },
    {
      "cell_type": "markdown",
      "metadata": {
        "id": "cEZ4d1DJ-sXP",
        "colab_type": "text"
      },
      "source": [
        "### Applying the clean_text function to the data"
      ]
    },
    {
      "cell_type": "code",
      "metadata": {
        "id": "zltcvQ39-sXQ",
        "colab_type": "code",
        "colab": {}
      },
      "source": [
        "Train_data = Train.copy()\n",
        "Test_data = Test.copy()"
      ],
      "execution_count": 0,
      "outputs": []
    },
    {
      "cell_type": "code",
      "metadata": {
        "id": "QHtQAelH-sXW",
        "colab_type": "code",
        "colab": {}
      },
      "source": [
        "Train_data['review']=Train_data['review'].apply(clean_text)"
      ],
      "execution_count": 0,
      "outputs": []
    },
    {
      "cell_type": "code",
      "metadata": {
        "id": "gh-t0PqZ-sXa",
        "colab_type": "code",
        "outputId": "28cca202-7b18-4ce4-ad50-73a599a036ef",
        "colab": {
          "base_uri": "https://localhost:8080/",
          "height": 204
        }
      },
      "source": [
        "Train_data.head()"
      ],
      "execution_count": 19,
      "outputs": [
        {
          "output_type": "execute_result",
          "data": {
            "text/html": [
              "<div>\n",
              "<style scoped>\n",
              "    .dataframe tbody tr th:only-of-type {\n",
              "        vertical-align: middle;\n",
              "    }\n",
              "\n",
              "    .dataframe tbody tr th {\n",
              "        vertical-align: top;\n",
              "    }\n",
              "\n",
              "    .dataframe thead th {\n",
              "        text-align: right;\n",
              "    }\n",
              "</style>\n",
              "<table border=\"1\" class=\"dataframe\">\n",
              "  <thead>\n",
              "    <tr style=\"text-align: right;\">\n",
              "      <th></th>\n",
              "      <th>review</th>\n",
              "      <th>rating</th>\n",
              "    </tr>\n",
              "  </thead>\n",
              "  <tbody>\n",
              "    <tr>\n",
              "      <th>0</th>\n",
              "      <td>it has no side effect i take it in combination...</td>\n",
              "      <td>9.0</td>\n",
              "    </tr>\n",
              "    <tr>\n",
              "      <th>1</th>\n",
              "      <td>my son is halfway through his fourth week of i...</td>\n",
              "      <td>8.0</td>\n",
              "    </tr>\n",
              "    <tr>\n",
              "      <th>2</th>\n",
              "      <td>i used to take another oral contraceptive whic...</td>\n",
              "      <td>5.0</td>\n",
              "    </tr>\n",
              "    <tr>\n",
              "      <th>3</th>\n",
              "      <td>this is my first time using any form of birth ...</td>\n",
              "      <td>8.0</td>\n",
              "    </tr>\n",
              "    <tr>\n",
              "      <th>4</th>\n",
              "      <td>suboxone has completely turned my life around ...</td>\n",
              "      <td>9.0</td>\n",
              "    </tr>\n",
              "  </tbody>\n",
              "</table>\n",
              "</div>"
            ],
            "text/plain": [
              "                                              review  rating\n",
              "0  it has no side effect i take it in combination...     9.0\n",
              "1  my son is halfway through his fourth week of i...     8.0\n",
              "2  i used to take another oral contraceptive whic...     5.0\n",
              "3  this is my first time using any form of birth ...     8.0\n",
              "4  suboxone has completely turned my life around ...     9.0"
            ]
          },
          "metadata": {
            "tags": []
          },
          "execution_count": 19
        }
      ]
    },
    {
      "cell_type": "markdown",
      "metadata": {
        "id": "8io4SsPt-sXs",
        "colab_type": "text"
      },
      "source": [
        "### Looking at the distribution of rating"
      ]
    },
    {
      "cell_type": "markdown",
      "metadata": {
        "id": "gL7Dfm_Y-sXt",
        "colab_type": "text"
      },
      "source": [
        "There are ten ratings in the traning set and test set."
      ]
    },
    {
      "cell_type": "code",
      "metadata": {
        "id": "u7LRYCHH-sXw",
        "colab_type": "code",
        "outputId": "806dc50e-1303-4413-ddd2-ccf1687b2b60",
        "colab": {
          "base_uri": "https://localhost:8080/",
          "height": 307
        }
      },
      "source": [
        "axis_rating = Train_data.groupby('rating').count().plot.bar()\n",
        "axis_rating.set_title('The distribution of rating');"
      ],
      "execution_count": 20,
      "outputs": [
        {
          "output_type": "display_data",
          "data": {
            "image/png": "[encoded data removed]",
            "text/plain": [
              "<Figure size 432x288 with 1 Axes>"
            ]
          },
          "metadata": {
            "tags": []
          }
        }
      ]
    },
    {
      "cell_type": "code",
      "metadata": {
        "id": "E621Uish-sX_",
        "colab_type": "code",
        "outputId": "6c59d4f6-f773-4774-b8d6-cca96d2b67c1",
        "colab": {
          "base_uri": "https://localhost:8080/",
          "height": 390
        }
      },
      "source": [
        "Train_data.groupby('rating').count()"
      ],
      "execution_count": 21,
      "outputs": [
        {
          "output_type": "execute_result",
          "data": {
            "text/html": [
              "<div>\n",
              "<style scoped>\n",
              "    .dataframe tbody tr th:only-of-type {\n",
              "        vertical-align: middle;\n",
              "    }\n",
              "\n",
              "    .dataframe tbody tr th {\n",
              "        vertical-align: top;\n",
              "    }\n",
              "\n",
              "    .dataframe thead th {\n",
              "        text-align: right;\n",
              "    }\n",
              "</style>\n",
              "<table border=\"1\" class=\"dataframe\">\n",
              "  <thead>\n",
              "    <tr style=\"text-align: right;\">\n",
              "      <th></th>\n",
              "      <th>review</th>\n",
              "    </tr>\n",
              "    <tr>\n",
              "      <th>rating</th>\n",
              "      <th></th>\n",
              "    </tr>\n",
              "  </thead>\n",
              "  <tbody>\n",
              "    <tr>\n",
              "      <th>1.0</th>\n",
              "      <td>21619</td>\n",
              "    </tr>\n",
              "    <tr>\n",
              "      <th>2.0</th>\n",
              "      <td>6931</td>\n",
              "    </tr>\n",
              "    <tr>\n",
              "      <th>3.0</th>\n",
              "      <td>6513</td>\n",
              "    </tr>\n",
              "    <tr>\n",
              "      <th>4.0</th>\n",
              "      <td>5012</td>\n",
              "    </tr>\n",
              "    <tr>\n",
              "      <th>5.0</th>\n",
              "      <td>8013</td>\n",
              "    </tr>\n",
              "    <tr>\n",
              "      <th>6.0</th>\n",
              "      <td>6343</td>\n",
              "    </tr>\n",
              "    <tr>\n",
              "      <th>7.0</th>\n",
              "      <td>9456</td>\n",
              "    </tr>\n",
              "    <tr>\n",
              "      <th>8.0</th>\n",
              "      <td>18890</td>\n",
              "    </tr>\n",
              "    <tr>\n",
              "      <th>9.0</th>\n",
              "      <td>27531</td>\n",
              "    </tr>\n",
              "    <tr>\n",
              "      <th>10.0</th>\n",
              "      <td>50989</td>\n",
              "    </tr>\n",
              "  </tbody>\n",
              "</table>\n",
              "</div>"
            ],
            "text/plain": [
              "        review\n",
              "rating        \n",
              "1.0      21619\n",
              "2.0       6931\n",
              "3.0       6513\n",
              "4.0       5012\n",
              "5.0       8013\n",
              "6.0       6343\n",
              "7.0       9456\n",
              "8.0      18890\n",
              "9.0      27531\n",
              "10.0     50989"
            ]
          },
          "metadata": {
            "tags": []
          },
          "execution_count": 21
        }
      ]
    },
    {
      "cell_type": "markdown",
      "metadata": {
        "id": "KzvR3KV1-sYE",
        "colab_type": "text"
      },
      "source": [
        "Now, we would like to classify the rating score into 4 categories.\n",
        "\n",
        "1 - 3 = Bad, this will be scored 0.\n",
        "\n",
        "4 - 7 = Moderate, this will be scored 1.\n",
        "\n",
        "8 - 9 = Good, this will be scored 2.\n",
        "\n",
        "10 = Excellent, this will be scored 3.\n"
      ]
    },
    {
      "cell_type": "markdown",
      "metadata": {
        "id": "6-PXQQvC-sYF",
        "colab_type": "text"
      },
      "source": [
        "### Creating a function to define a score following the above criterion."
      ]
    },
    {
      "cell_type": "code",
      "metadata": {
        "id": "omDxBR3t-sYG",
        "colab_type": "code",
        "colab": {}
      },
      "source": [
        "def rating2score(rating):\n",
        "    if rating <=3:\n",
        "        score = 0\n",
        "    elif rating <=7:\n",
        "        score = 1\n",
        "    elif rating <=9:\n",
        "        score = 2\n",
        "    else:\n",
        "        score = 3\n",
        "    return score"
      ],
      "execution_count": 0,
      "outputs": []
    },
    {
      "cell_type": "code",
      "metadata": {
        "id": "IjhDQDBw-sYJ",
        "colab_type": "code",
        "colab": {}
      },
      "source": [
        "Train_data['score']=Train_data['rating'].apply(rating2score)"
      ],
      "execution_count": 0,
      "outputs": []
    },
    {
      "cell_type": "code",
      "metadata": {
        "id": "-h9rlLp--sYM",
        "colab_type": "code",
        "outputId": "9e9c70ba-d057-42d6-9fdc-0f3264c8cb61",
        "colab": {
          "base_uri": "https://localhost:8080/",
          "height": 119
        }
      },
      "source": [
        "Train_data.groupby('score')['review'].count()"
      ],
      "execution_count": 24,
      "outputs": [
        {
          "output_type": "execute_result",
          "data": {
            "text/plain": [
              "score\n",
              "0    35063\n",
              "1    28824\n",
              "2    46421\n",
              "3    50989\n",
              "Name: review, dtype: int64"
            ]
          },
          "metadata": {
            "tags": []
          },
          "execution_count": 24
        }
      ]
    },
    {
      "cell_type": "code",
      "metadata": {
        "id": "cIKCfCLO-sYQ",
        "colab_type": "code",
        "outputId": "8983ca8d-50ad-418f-eb8d-d4d19afbb974",
        "colab": {
          "base_uri": "https://localhost:8080/",
          "height": 292
        }
      },
      "source": [
        "axis_score = Train_data.groupby('score')['review'].count().plot.bar()\n",
        "axis_score.set_title('The distribution of score');"
      ],
      "execution_count": 25,
      "outputs": [
        {
          "output_type": "display_data",
          "data": {
            "image/png": "[encoded data removed]",
            "text/plain": [
              "<Figure size 432x288 with 1 Axes>"
            ]
          },
          "metadata": {
            "tags": []
          }
        }
      ]
    },
    {
      "cell_type": "markdown",
      "metadata": {
        "id": "dfbsFXcy-sYV",
        "colab_type": "text"
      },
      "source": [
        "### Creating a function that returns a number of words in the reviews."
      ]
    },
    {
      "cell_type": "code",
      "metadata": {
        "id": "R1rcwBC2-sYW",
        "colab_type": "code",
        "colab": {}
      },
      "source": [
        "def wordcount(text):\n",
        "    return len(text.split())"
      ],
      "execution_count": 0,
      "outputs": []
    },
    {
      "cell_type": "code",
      "metadata": {
        "id": "cAxyUaUr-sYZ",
        "colab_type": "code",
        "colab": {}
      },
      "source": [
        "Train_data['word_count'] = Train_data['review'].apply(wordcount)"
      ],
      "execution_count": 0,
      "outputs": []
    },
    {
      "cell_type": "markdown",
      "metadata": {
        "id": "M3Q_KCoA-sYc",
        "colab_type": "text"
      },
      "source": [
        "### Looking at a histogram of word counting at each review"
      ]
    },
    {
      "cell_type": "code",
      "metadata": {
        "id": "wGFS7B92-sYd",
        "colab_type": "code",
        "outputId": "db939841-83b3-4b1d-8e76-91cdc22afff9",
        "colab": {
          "base_uri": "https://localhost:8080/",
          "height": 595
        }
      },
      "source": [
        "plt.figure(figsize=(10,10))\n",
        "axis_hist = Train_data['word_count'].plot.hist(bins=40)"
      ],
      "execution_count": 28,
      "outputs": [
        {
          "output_type": "display_data",
          "data": {
            "image/png": "[encoded data removed]",
            "text/plain": [
              "<Figure size 720x720 with 1 Axes>"
            ]
          },
          "metadata": {
            "tags": []
          }
        }
      ]
    },
    {
      "cell_type": "markdown",
      "metadata": {
        "id": "Y-0JdTeQ-sYk",
        "colab_type": "text"
      },
      "source": [
        "Most of reviews have word counts less than 64 words. The reviews with word counts greater than 200 will be fittered out."
      ]
    },
    {
      "cell_type": "code",
      "metadata": {
        "id": "O3bXH1Vb-sYl",
        "colab_type": "code",
        "colab": {}
      },
      "source": [
        "Train_data = Train_data[Train_data['word_count']<=128]"
      ],
      "execution_count": 0,
      "outputs": []
    },
    {
      "cell_type": "code",
      "metadata": {
        "id": "doZWz_p4-sYo",
        "colab_type": "code",
        "outputId": "024a6468-fa17-4edb-81f2-5689ecb26c98",
        "colab": {
          "base_uri": "https://localhost:8080/",
          "height": 292
        }
      },
      "source": [
        "axis_score1 = Train_data.groupby('score')['review'].count().plot.bar()\n",
        "axis_score1.set_title('The distribution of score');"
      ],
      "execution_count": 30,
      "outputs": [
        {
          "output_type": "display_data",
          "data": {
            "image/png": "[encoded data removed]",
            "text/plain": [
              "<Figure size 432x288 with 1 Axes>"
            ]
          },
          "metadata": {
            "tags": []
          }
        }
      ]
    },
    {
      "cell_type": "code",
      "metadata": {
        "id": "b06DPNqQ-sYt",
        "colab_type": "code",
        "outputId": "dda0edd2-0c2b-42a7-ca50-1c81cb0cfbae",
        "colab": {
          "base_uri": "https://localhost:8080/",
          "height": 34
        }
      },
      "source": [
        "len(Train_data)"
      ],
      "execution_count": 31,
      "outputs": [
        {
          "output_type": "execute_result",
          "data": {
            "text/plain": [
              "124680"
            ]
          },
          "metadata": {
            "tags": []
          },
          "execution_count": 31
        }
      ]
    },
    {
      "cell_type": "markdown",
      "metadata": {
        "id": "xmk-9BKl-sYy",
        "colab_type": "text"
      },
      "source": [
        "Now there are 161042 training data."
      ]
    },
    {
      "cell_type": "code",
      "metadata": {
        "id": "4ZbvkJDV-sYz",
        "colab_type": "code",
        "outputId": "7f88676e-91f7-47fb-860d-094b3c2b365b",
        "colab": {
          "base_uri": "https://localhost:8080/",
          "height": 486
        }
      },
      "source": [
        "plt.figure(figsize=(10,8))\n",
        "axis_hist2 = Train_data['word_count'].plot.hist(bins=20)"
      ],
      "execution_count": 32,
      "outputs": [
        {
          "output_type": "display_data",
          "data": {
            "image/png": "[encoded data removed]",
            "text/plain": [
              "<Figure size 720x576 with 1 Axes>"
            ]
          },
          "metadata": {
            "tags": []
          }
        }
      ]
    },
    {
      "cell_type": "code",
      "metadata": {
        "id": "wvFHVQJJ-sY5",
        "colab_type": "code",
        "colab": {}
      },
      "source": [
        "from tensorflow.keras.preprocessing import text,sequence"
      ],
      "execution_count": 0,
      "outputs": []
    },
    {
      "cell_type": "markdown",
      "metadata": {
        "id": "sT4kXmMs-sZJ",
        "colab_type": "text"
      },
      "source": [
        "For this project, 50-dimensional GloVe vectors will be used to represent words."
      ]
    },
    {
      "cell_type": "markdown",
      "metadata": {
        "id": "TviRTXTV-sZP",
        "colab_type": "text"
      },
      "source": [
        "### Using pretrain GloVe with 50 dimensions"
      ]
    },
    {
      "cell_type": "code",
      "metadata": {
        "id": "bicZiDk8-sZQ",
        "colab_type": "code",
        "colab": {}
      },
      "source": [
        "import os\n",
        "word2vec_map = {}\n",
        "with open(os.path.join(root_path,'glove.6B.50d.txt')) as f:\n",
        "    for line in f:\n",
        "        values = line.split()\n",
        "        word = values[0]\n",
        "        coefs = np.asarray(values[1:], dtype='float32')\n",
        "        word2vec_map[word] = coefs"
      ],
      "execution_count": 0,
      "outputs": []
    },
    {
      "cell_type": "code",
      "metadata": {
        "id": "Qgz29PQf-sZd",
        "colab_type": "code",
        "outputId": "8ebad194-cbdb-4456-ea28-abaa74139796",
        "colab": {
          "base_uri": "https://localhost:8080/",
          "height": 34
        }
      },
      "source": [
        "len(word2vec_map)"
      ],
      "execution_count": 35,
      "outputs": [
        {
          "output_type": "execute_result",
          "data": {
            "text/plain": [
              "400000"
            ]
          },
          "metadata": {
            "tags": []
          },
          "execution_count": 35
        }
      ]
    },
    {
      "cell_type": "code",
      "metadata": {
        "id": "g4ebc7je-sZj",
        "colab_type": "code",
        "outputId": "c14daae4-30f6-4fe5-c66e-4e29f33a9bbf",
        "colab": {
          "base_uri": "https://localhost:8080/",
          "height": 204
        }
      },
      "source": [
        "word2vec_map.get('the')"
      ],
      "execution_count": 36,
      "outputs": [
        {
          "output_type": "execute_result",
          "data": {
            "text/plain": [
              "array([ 4.1800e-01,  2.4968e-01, -4.1242e-01,  1.2170e-01,  3.4527e-01,\n",
              "       -4.4457e-02, -4.9688e-01, -1.7862e-01, -6.6023e-04, -6.5660e-01,\n",
              "        2.7843e-01, -1.4767e-01, -5.5677e-01,  1.4658e-01, -9.5095e-03,\n",
              "        1.1658e-02,  1.0204e-01, -1.2792e-01, -8.4430e-01, -1.2181e-01,\n",
              "       -1.6801e-02, -3.3279e-01, -1.5520e-01, -2.3131e-01, -1.9181e-01,\n",
              "       -1.8823e+00, -7.6746e-01,  9.9051e-02, -4.2125e-01, -1.9526e-01,\n",
              "        4.0071e+00, -1.8594e-01, -5.2287e-01, -3.1681e-01,  5.9213e-04,\n",
              "        7.4449e-03,  1.7778e-01, -1.5897e-01,  1.2041e-02, -5.4223e-02,\n",
              "       -2.9871e-01, -1.5749e-01, -3.4758e-01, -4.5637e-02, -4.4251e-01,\n",
              "        1.8785e-01,  2.7849e-03, -1.8411e-01, -1.1514e-01, -7.8581e-01],\n",
              "      dtype=float32)"
            ]
          },
          "metadata": {
            "tags": []
          },
          "execution_count": 36
        }
      ]
    },
    {
      "cell_type": "markdown",
      "metadata": {
        "id": "Zx1hyj0_-sZx",
        "colab_type": "text"
      },
      "source": [
        "### Setting the threshold"
      ]
    },
    {
      "cell_type": "markdown",
      "metadata": {
        "id": "4o6hLGCe-sZz",
        "colab_type": "text"
      },
      "source": [
        "This is the maximum number of word that will be used in this project."
      ]
    },
    {
      "cell_type": "code",
      "metadata": {
        "id": "uECGWBAQ-sZ0",
        "colab_type": "code",
        "colab": {}
      },
      "source": [
        "Top_word = 20000"
      ],
      "execution_count": 0,
      "outputs": []
    },
    {
      "cell_type": "markdown",
      "metadata": {
        "id": "J-ur7a2v-sZ3",
        "colab_type": "text"
      },
      "source": [
        "This is the maximum number of words per sentence."
      ]
    },
    {
      "cell_type": "code",
      "metadata": {
        "id": "IEczc3GE-sZ4",
        "colab_type": "code",
        "colab": {}
      },
      "source": [
        "max_word_count = 128"
      ],
      "execution_count": 0,
      "outputs": []
    },
    {
      "cell_type": "code",
      "metadata": {
        "id": "dpw0o38W-sZ8",
        "colab_type": "code",
        "colab": {}
      },
      "source": [
        "X_train = Train_data['review']\n",
        "y_train = Train_data['score']"
      ],
      "execution_count": 0,
      "outputs": []
    },
    {
      "cell_type": "markdown",
      "metadata": {
        "id": "_YKMiJRz-saF",
        "colab_type": "text"
      },
      "source": [
        "### Create a dictionary that transforms words into interger numbers with training texts."
      ]
    },
    {
      "cell_type": "code",
      "metadata": {
        "id": "obV7iiil-saG",
        "colab_type": "code",
        "colab": {}
      },
      "source": [
        "tokenizer = text.Tokenizer(num_words = Top_word, oov_token='<OOV>')\n",
        "tokenizer.fit_on_texts(X_train)"
      ],
      "execution_count": 0,
      "outputs": []
    },
    {
      "cell_type": "markdown",
      "metadata": {
        "id": "LgjolMNg-saO",
        "colab_type": "text"
      },
      "source": [
        "### Vectorizing training texts."
      ]
    },
    {
      "cell_type": "code",
      "metadata": {
        "id": "mcmBSkES-saP",
        "colab_type": "code",
        "colab": {}
      },
      "source": [
        "X_train_token = tokenizer.texts_to_sequences(X_train)"
      ],
      "execution_count": 0,
      "outputs": []
    },
    {
      "cell_type": "markdown",
      "metadata": {
        "id": "PeT0ER0_-saR",
        "colab_type": "text"
      },
      "source": [
        "### Fix sequence length to max value. \n",
        "Sequences shorter than the length are padded in the beginning and sequences longer are truncated at the beginning."
      ]
    },
    {
      "cell_type": "code",
      "metadata": {
        "id": "MLKWbwPf-saS",
        "colab_type": "code",
        "colab": {}
      },
      "source": [
        "max_length = 128\n",
        "X_train_token = sequence.pad_sequences(X_train_token, maxlen=max_length,padding='post', truncating='post')"
      ],
      "execution_count": 0,
      "outputs": []
    },
    {
      "cell_type": "markdown",
      "metadata": {
        "id": "DEGofQW9-saV",
        "colab_type": "text"
      },
      "source": [
        "### Dictionary that transfroms words into indices"
      ]
    },
    {
      "cell_type": "code",
      "metadata": {
        "id": "4aPlJeR4-saW",
        "colab_type": "code",
        "colab": {}
      },
      "source": [
        "word2index = tokenizer.word_index"
      ],
      "execution_count": 0,
      "outputs": []
    },
    {
      "cell_type": "markdown",
      "metadata": {
        "id": "TTkVoOL3-saY",
        "colab_type": "text"
      },
      "source": [
        "### Dictionary that transforms indices into words"
      ]
    },
    {
      "cell_type": "code",
      "metadata": {
        "id": "jFKeQgEu-saZ",
        "colab_type": "code",
        "colab": {}
      },
      "source": [
        "index2word = {index:word for word,index in word2index.items()}"
      ],
      "execution_count": 0,
      "outputs": []
    },
    {
      "cell_type": "code",
      "metadata": {
        "id": "klCWH32I-sac",
        "colab_type": "code",
        "outputId": "6fdc8e65-b559-487c-b2e7-6780b705955a",
        "colab": {
          "base_uri": "https://localhost:8080/",
          "height": 34
        }
      },
      "source": [
        "len(word2index)"
      ],
      "execution_count": 45,
      "outputs": [
        {
          "output_type": "execute_result",
          "data": {
            "text/plain": [
              "63754"
            ]
          },
          "metadata": {
            "tags": []
          },
          "execution_count": 45
        }
      ]
    },
    {
      "cell_type": "markdown",
      "metadata": {
        "id": "Wqm5rby2-saq",
        "colab_type": "text"
      },
      "source": [
        "### preparing embedding matrix\n",
        "\n"
      ]
    },
    {
      "cell_type": "code",
      "metadata": {
        "id": "-eBBGbT6-sar",
        "colab_type": "code",
        "colab": {}
      },
      "source": [
        "num_words = min(Top_word, len(word2index))+1\n",
        "emb_dim = 50"
      ],
      "execution_count": 0,
      "outputs": []
    },
    {
      "cell_type": "code",
      "metadata": {
        "id": "ND99skgQ-sat",
        "colab_type": "code",
        "colab": {}
      },
      "source": [
        "embedding_matrix = np.zeros((num_words, emb_dim))\n",
        "for word, i in word2index.items():\n",
        "    if i > Top_word:\n",
        "        continue\n",
        "    embedding_vector = word2vec_map.get(word)\n",
        "    if embedding_vector is not None:\n",
        "        # words not found in embedding index will be all-zeros.\n",
        "        embedding_matrix[i] = embedding_vector"
      ],
      "execution_count": 0,
      "outputs": []
    },
    {
      "cell_type": "markdown",
      "metadata": {
        "id": "9rnZt78u-sav",
        "colab_type": "text"
      },
      "source": [
        "### Creating a function that apply the data preprocessing steps to the test set"
      ]
    },
    {
      "cell_type": "code",
      "metadata": {
        "id": "PMHS96Eo-saw",
        "colab_type": "code",
        "colab": {}
      },
      "source": [
        "def DataPreprocessing(data, tokenizer):\n",
        "    #Cleaning text\n",
        "    data['review']=data['review'].apply(clean_text)\n",
        "    #Calculating score\n",
        "    data['score']=data['rating'].apply(rating2score)\n",
        "    #Calculating word count\n",
        "    data['word_count']=data['review'].apply(wordcount)\n",
        "    #Keeping the data that have word count less than or equal 200\n",
        "    data = data[data['word_count']<=128]\n",
        "    \n",
        "    #Feature selection\n",
        "    X = data['review']\n",
        "    #Target selection\n",
        "    y = data['score']\n",
        "    \n",
        "    #Transfroming X to a sequence of interger numbers\n",
        "    data_token = tokenizer.texts_to_sequences(X)\n",
        "    #Padding\n",
        "    data_token = sequence.pad_sequences(data_token, maxlen=max_length,padding='post', truncating='post')\n",
        "    \n",
        "    return data_token, y"
      ],
      "execution_count": 0,
      "outputs": []
    },
    {
      "cell_type": "code",
      "metadata": {
        "id": "TnM94EeE-saz",
        "colab_type": "code",
        "outputId": "59f15180-a6e8-4de9-dce8-9645b9d58242",
        "colab": {
          "base_uri": "https://localhost:8080/",
          "height": 204
        }
      },
      "source": [
        "Test_data.head()"
      ],
      "execution_count": 49,
      "outputs": [
        {
          "output_type": "execute_result",
          "data": {
            "text/html": [
              "<div>\n",
              "<style scoped>\n",
              "    .dataframe tbody tr th:only-of-type {\n",
              "        vertical-align: middle;\n",
              "    }\n",
              "\n",
              "    .dataframe tbody tr th {\n",
              "        vertical-align: top;\n",
              "    }\n",
              "\n",
              "    .dataframe thead th {\n",
              "        text-align: right;\n",
              "    }\n",
              "</style>\n",
              "<table border=\"1\" class=\"dataframe\">\n",
              "  <thead>\n",
              "    <tr style=\"text-align: right;\">\n",
              "      <th></th>\n",
              "      <th>review</th>\n",
              "      <th>rating</th>\n",
              "    </tr>\n",
              "  </thead>\n",
              "  <tbody>\n",
              "    <tr>\n",
              "      <th>0</th>\n",
              "      <td>\"I&amp;#039;ve tried a few antidepressants over th...</td>\n",
              "      <td>10.0</td>\n",
              "    </tr>\n",
              "    <tr>\n",
              "      <th>1</th>\n",
              "      <td>\"My son has Crohn&amp;#039;s disease and has done ...</td>\n",
              "      <td>8.0</td>\n",
              "    </tr>\n",
              "    <tr>\n",
              "      <th>2</th>\n",
              "      <td>\"Quick reduction of symptoms\"</td>\n",
              "      <td>9.0</td>\n",
              "    </tr>\n",
              "    <tr>\n",
              "      <th>3</th>\n",
              "      <td>\"Contrave combines drugs that were used for al...</td>\n",
              "      <td>9.0</td>\n",
              "    </tr>\n",
              "    <tr>\n",
              "      <th>4</th>\n",
              "      <td>\"I have been on this birth control for one cyc...</td>\n",
              "      <td>9.0</td>\n",
              "    </tr>\n",
              "  </tbody>\n",
              "</table>\n",
              "</div>"
            ],
            "text/plain": [
              "                                              review  rating\n",
              "0  \"I&#039;ve tried a few antidepressants over th...    10.0\n",
              "1  \"My son has Crohn&#039;s disease and has done ...     8.0\n",
              "2                      \"Quick reduction of symptoms\"     9.0\n",
              "3  \"Contrave combines drugs that were used for al...     9.0\n",
              "4  \"I have been on this birth control for one cyc...     9.0"
            ]
          },
          "metadata": {
            "tags": []
          },
          "execution_count": 49
        }
      ]
    },
    {
      "cell_type": "markdown",
      "metadata": {
        "id": "Hmq9T_T7-sa3",
        "colab_type": "text"
      },
      "source": [
        "### Performing the data preprocessing function to the test set"
      ]
    },
    {
      "cell_type": "code",
      "metadata": {
        "id": "8tRjNnT1-sa3",
        "colab_type": "code",
        "colab": {}
      },
      "source": [
        "X_test_token, y_test = DataPreprocessing(Test_data,tokenizer)"
      ],
      "execution_count": 0,
      "outputs": []
    },
    {
      "cell_type": "code",
      "metadata": {
        "id": "stbD3mOer7le",
        "colab_type": "code",
        "outputId": "86258230-04f8-4338-f407-e21b6823af67",
        "colab": {
          "base_uri": "https://localhost:8080/",
          "height": 34
        }
      },
      "source": [
        "len(X_test_token)"
      ],
      "execution_count": 51,
      "outputs": [
        {
          "output_type": "execute_result",
          "data": {
            "text/plain": [
              "41538"
            ]
          },
          "metadata": {
            "tags": []
          },
          "execution_count": 51
        }
      ]
    },
    {
      "cell_type": "markdown",
      "metadata": {
        "id": "lQ3V1Tzb-sa5",
        "colab_type": "text"
      },
      "source": [
        "## Creating the sepCNN that returns the score"
      ]
    },
    {
      "cell_type": "code",
      "metadata": {
        "id": "NUdxaewB-sa6",
        "colab_type": "code",
        "colab": {}
      },
      "source": [
        "from tensorflow.keras.models import Sequential\n",
        "from tensorflow.keras.layers import Dense\n",
        "from tensorflow.keras.layers import Dropout\n",
        "from tensorflow.keras.layers import Embedding\n",
        "from tensorflow.keras.layers import SeparableConv1D\n",
        "from tensorflow.keras.layers import MaxPooling1D\n",
        "from tensorflow.keras.layers import GlobalAveragePooling1D\n",
        "from tensorflow.keras.layers import BatchNormalization\n",
        "from tensorflow.keras.layers import LeakyReLU\n",
        "from tensorflow.keras.layers import LSTM\n",
        "from tensorflow.keras.initializers import Constant\n",
        "from tensorflow.keras import regularizers"
      ],
      "execution_count": 0,
      "outputs": []
    },
    {
      "cell_type": "markdown",
      "metadata": {
        "id": "L3w4AXBt-sa8",
        "colab_type": "text"
      },
      "source": [
        "### Initiating the Sentiment Classification"
      ]
    },
    {
      "cell_type": "code",
      "metadata": {
        "id": "-wYD-wrh-sa9",
        "colab_type": "code",
        "colab": {}
      },
      "source": [
        "predictor = Sequential()"
      ],
      "execution_count": 0,
      "outputs": []
    },
    {
      "cell_type": "markdown",
      "metadata": {
        "id": "eCs75XBH-sbB",
        "colab_type": "text"
      },
      "source": [
        "### The 1st Layer - The Embedding Layer"
      ]
    },
    {
      "cell_type": "code",
      "metadata": {
        "id": "uzPUF3L7-sbG",
        "colab_type": "code",
        "colab": {}
      },
      "source": [
        "input_shape = 128\n",
        "dropout_rate = 0.4"
      ],
      "execution_count": 0,
      "outputs": []
    },
    {
      "cell_type": "code",
      "metadata": {
        "id": "rEeBYbpn-sbU",
        "colab_type": "code",
        "colab": {}
      },
      "source": [
        "predictor.add(Embedding(input_dim=num_words,\n",
        "                        output_dim=emb_dim,\n",
        "                        input_length=input_shape,\n",
        "                        embeddings_initializer=Constant(embedding_matrix),\n",
        "                        trainable=False, name = \"Embedding\"\n",
        "                       ))"
      ],
      "execution_count": 0,
      "outputs": []
    },
    {
      "cell_type": "markdown",
      "metadata": {
        "id": "DbvnQ_lp-sbl",
        "colab_type": "text"
      },
      "source": [
        "### The 2nd Layer - The 1st LSTM layer with dropout"
      ]
    },
    {
      "cell_type": "code",
      "metadata": {
        "id": "E6BpfW9h-sbm",
        "colab_type": "code",
        "colab": {}
      },
      "source": [
        "predictor.add(LSTM(units=64, return_sequences=True, name = 'LSTM_1'))"
      ],
      "execution_count": 0,
      "outputs": []
    },
    {
      "cell_type": "code",
      "metadata": {
        "id": "LxFz95z0-sbq",
        "colab_type": "code",
        "colab": {}
      },
      "source": [
        "predictor.add(Dropout(rate=dropout_rate, name = 'Dropout_1'))"
      ],
      "execution_count": 0,
      "outputs": []
    },
    {
      "cell_type": "markdown",
      "metadata": {
        "id": "fYA-z4Jr-sbt",
        "colab_type": "text"
      },
      "source": [
        "### The 3rd Layer - The 2nd LSTM layer with dropout"
      ]
    },
    {
      "cell_type": "code",
      "metadata": {
        "id": "FMSfRQlJ-sbt",
        "colab_type": "code",
        "colab": {}
      },
      "source": [
        "predictor.add(LSTM(units=128, return_sequences=False, name = 'LSTM_2'))"
      ],
      "execution_count": 0,
      "outputs": []
    },
    {
      "cell_type": "code",
      "metadata": {
        "id": "_BXB-Xxg-sbw",
        "colab_type": "code",
        "colab": {}
      },
      "source": [
        "predictor.add(Dropout(rate=dropout_rate, name = 'Dropout_2'))"
      ],
      "execution_count": 0,
      "outputs": []
    },
    {
      "cell_type": "markdown",
      "metadata": {
        "id": "VXELny3GorCg",
        "colab_type": "text"
      },
      "source": [
        "### The 4th layer - The Fully Connected Layer"
      ]
    },
    {
      "cell_type": "code",
      "metadata": {
        "id": "TMJywuI2oiJx",
        "colab_type": "code",
        "colab": {}
      },
      "source": [
        "predictor.add(Dense(64, activation = 'relu', name = 'FC_1'))"
      ],
      "execution_count": 0,
      "outputs": []
    },
    {
      "cell_type": "code",
      "metadata": {
        "id": "VBXhLz6Roqhf",
        "colab_type": "code",
        "colab": {}
      },
      "source": [
        "predictor.add(Dropout(rate=dropout_rate, name = 'Dropout_3'))"
      ],
      "execution_count": 0,
      "outputs": []
    },
    {
      "cell_type": "markdown",
      "metadata": {
        "id": "GJp7t9f8-sb0",
        "colab_type": "text"
      },
      "source": [
        "### The Last Layer - The Output Layer"
      ]
    },
    {
      "cell_type": "markdown",
      "metadata": {
        "id": "o245dtUM-sb1",
        "colab_type": "text"
      },
      "source": [
        "There 4 outcomes in this project. The activation function will be the softmax function."
      ]
    },
    {
      "cell_type": "code",
      "metadata": {
        "id": "J-kYfnDQ-sb1",
        "colab_type": "code",
        "colab": {}
      },
      "source": [
        "predictor.add(Dense(4, activation='softmax', name = 'Output_Softmax'))"
      ],
      "execution_count": 0,
      "outputs": []
    },
    {
      "cell_type": "code",
      "metadata": {
        "id": "KCfSC4EM-scG",
        "colab_type": "code",
        "colab": {}
      },
      "source": [
        "from tensorflow.keras.optimizers import Adam"
      ],
      "execution_count": 0,
      "outputs": []
    },
    {
      "cell_type": "code",
      "metadata": {
        "id": "BEBbfwkI-scV",
        "colab_type": "code",
        "colab": {}
      },
      "source": [
        "adam = Adam(lr=0.0000005)"
      ],
      "execution_count": 0,
      "outputs": []
    },
    {
      "cell_type": "code",
      "metadata": {
        "id": "QVjZW3U9-scW",
        "colab_type": "code",
        "colab": {}
      },
      "source": [
        "predictor.compile(optimizer = adam, loss = 'sparse_categorical_crossentropy', metrics = ['accuracy'])"
      ],
      "execution_count": 0,
      "outputs": []
    },
    {
      "cell_type": "markdown",
      "metadata": {
        "id": "eQoBK4EQ-scb",
        "colab_type": "text"
      },
      "source": [
        "### Summary"
      ]
    },
    {
      "cell_type": "code",
      "metadata": {
        "id": "_QD3GwG2-scz",
        "colab_type": "code",
        "outputId": "6972acd6-236e-41a8-af7d-59a4933d1f93",
        "colab": {
          "base_uri": "https://localhost:8080/",
          "height": 425
        }
      },
      "source": [
        "predictor.summary()"
      ],
      "execution_count": 100,
      "outputs": [
        {
          "output_type": "stream",
          "text": [
            "Model: \"sequential\"\n",
            "_________________________________________________________________\n",
            "Layer (type)                 Output Shape              Param #   \n",
            "=================================================================\n",
            "Embedding (Embedding)        (None, 128, 50)           1000050   \n",
            "_________________________________________________________________\n",
            "LSTM_1 (LSTM)                (None, 128, 64)           29440     \n",
            "_________________________________________________________________\n",
            "Dropout_1 (Dropout)          (None, 128, 64)           0         \n",
            "_________________________________________________________________\n",
            "LSTM_2 (LSTM)                (None, 128)               98816     \n",
            "_________________________________________________________________\n",
            "Dropout_2 (Dropout)          (None, 128)               0         \n",
            "_________________________________________________________________\n",
            "FC_1 (Dense)                 (None, 64)                8256      \n",
            "_________________________________________________________________\n",
            "Dropout_3 (Dropout)          (None, 64)                0         \n",
            "_________________________________________________________________\n",
            "Output_Softmax (Dense)       (None, 4)                 260       \n",
            "=================================================================\n",
            "Total params: 1,136,822\n",
            "Trainable params: 136,772\n",
            "Non-trainable params: 1,000,050\n",
            "_________________________________________________________________\n"
          ],
          "name": "stdout"
        }
      ]
    },
    {
      "cell_type": "code",
      "metadata": {
        "id": "dNXcLS1g-sc3",
        "colab_type": "code",
        "colab": {}
      },
      "source": [
        "from tensorflow.keras.models import load_model\n",
        "#predictor = load_model(os.path.join(root_path,'drugreview1_06.h5'))\n",
        "predictor.load_weights(os.path.join(root_path,'drugreview1_07_weights.h5'))"
      ],
      "execution_count": 0,
      "outputs": []
    },
    {
      "cell_type": "code",
      "metadata": {
        "id": "HddN0nvO-sc9",
        "colab_type": "code",
        "outputId": "a109f3b0-aa6d-4145-82c4-0ecb90eaf304",
        "colab": {
          "base_uri": "https://localhost:8080/",
          "height": 1000
        }
      },
      "source": [
        "predictor.fit(x=X_train_token,y=y_train,\n",
        "             batch_size=1024,\n",
        "             epochs=30,\n",
        "             validation_data=(X_test_token,y_test)\n",
        "             )"
      ],
      "execution_count": 106,
      "outputs": [
        {
          "output_type": "stream",
          "text": [
            "Train on 124680 samples, validate on 41538 samples\n",
            "Epoch 1/30\n",
            "124680/124680 [==============================] - 58s 467us/sample - loss: 0.5099 - acc: 0.8207 - val_loss: 0.9828 - val_acc: 0.7289\n",
            "Epoch 2/30\n",
            "124680/124680 [==============================] - 58s 465us/sample - loss: 0.5145 - acc: 0.8184 - val_loss: 0.9824 - val_acc: 0.7287\n",
            "Epoch 3/30\n",
            "124680/124680 [==============================] - 58s 464us/sample - loss: 0.5109 - acc: 0.8186 - val_loss: 0.9825 - val_acc: 0.7287\n",
            "Epoch 4/30\n",
            "124680/124680 [==============================] - 58s 463us/sample - loss: 0.5079 - acc: 0.8202 - val_loss: 0.9826 - val_acc: 0.7286\n",
            "Epoch 5/30\n",
            "124680/124680 [==============================] - 57s 458us/sample - loss: 0.5117 - acc: 0.8190 - val_loss: 0.9827 - val_acc: 0.7284\n",
            "Epoch 6/30\n",
            "124680/124680 [==============================] - 58s 462us/sample - loss: 0.5118 - acc: 0.8185 - val_loss: 0.9824 - val_acc: 0.7283\n",
            "Epoch 7/30\n",
            "124680/124680 [==============================] - 57s 459us/sample - loss: 0.5164 - acc: 0.8182 - val_loss: 0.9822 - val_acc: 0.7285\n",
            "Epoch 8/30\n",
            "124680/124680 [==============================] - 57s 455us/sample - loss: 0.5143 - acc: 0.8181 - val_loss: 0.9819 - val_acc: 0.7283\n",
            "Epoch 9/30\n",
            "124680/124680 [==============================] - 56s 453us/sample - loss: 0.5132 - acc: 0.8192 - val_loss: 0.9817 - val_acc: 0.7284\n",
            "Epoch 10/30\n",
            "124680/124680 [==============================] - 56s 451us/sample - loss: 0.5122 - acc: 0.8196 - val_loss: 0.9818 - val_acc: 0.7283\n",
            "Epoch 11/30\n",
            "124680/124680 [==============================] - 56s 450us/sample - loss: 0.5120 - acc: 0.8186 - val_loss: 0.9819 - val_acc: 0.7281\n",
            "Epoch 12/30\n",
            "124680/124680 [==============================] - 56s 450us/sample - loss: 0.5089 - acc: 0.8209 - val_loss: 0.9818 - val_acc: 0.7282\n",
            "Epoch 13/30\n",
            "124680/124680 [==============================] - 57s 456us/sample - loss: 0.5106 - acc: 0.8189 - val_loss: 0.9815 - val_acc: 0.7283\n",
            "Epoch 14/30\n",
            "124680/124680 [==============================] - 57s 461us/sample - loss: 0.5116 - acc: 0.8182 - val_loss: 0.9815 - val_acc: 0.7281\n",
            "Epoch 15/30\n",
            "124680/124680 [==============================] - 58s 463us/sample - loss: 0.5144 - acc: 0.8185 - val_loss: 0.9815 - val_acc: 0.7281\n",
            "Epoch 16/30\n",
            "124680/124680 [==============================] - 57s 461us/sample - loss: 0.5110 - acc: 0.8198 - val_loss: 0.9815 - val_acc: 0.7281\n",
            "Epoch 17/30\n",
            "124680/124680 [==============================] - 58s 466us/sample - loss: 0.5127 - acc: 0.8186 - val_loss: 0.9817 - val_acc: 0.7281\n",
            "Epoch 18/30\n",
            "124680/124680 [==============================] - 57s 459us/sample - loss: 0.5105 - acc: 0.8212 - val_loss: 0.9816 - val_acc: 0.7280\n",
            "Epoch 19/30\n",
            "124680/124680 [==============================] - 57s 460us/sample - loss: 0.5105 - acc: 0.8196 - val_loss: 0.9816 - val_acc: 0.7281\n",
            "Epoch 20/30\n",
            "124680/124680 [==============================] - 57s 456us/sample - loss: 0.5109 - acc: 0.8198 - val_loss: 0.9815 - val_acc: 0.7281\n",
            "Epoch 21/30\n",
            "124680/124680 [==============================] - 57s 454us/sample - loss: 0.5095 - acc: 0.8195 - val_loss: 0.9813 - val_acc: 0.7283\n",
            "Epoch 22/30\n",
            "124680/124680 [==============================] - 57s 456us/sample - loss: 0.5114 - acc: 0.8201 - val_loss: 0.9813 - val_acc: 0.7283\n",
            "Epoch 23/30\n",
            "124680/124680 [==============================] - 56s 451us/sample - loss: 0.5115 - acc: 0.8198 - val_loss: 0.9812 - val_acc: 0.7283\n",
            "Epoch 24/30\n",
            "124680/124680 [==============================] - 57s 454us/sample - loss: 0.5135 - acc: 0.8184 - val_loss: 0.9812 - val_acc: 0.7281\n",
            "Epoch 25/30\n",
            "124680/124680 [==============================] - 56s 450us/sample - loss: 0.5091 - acc: 0.8192 - val_loss: 0.9813 - val_acc: 0.7281\n",
            "Epoch 26/30\n",
            "124680/124680 [==============================] - 56s 451us/sample - loss: 0.5075 - acc: 0.8202 - val_loss: 0.9812 - val_acc: 0.7281\n",
            "Epoch 27/30\n",
            "124680/124680 [==============================] - 56s 452us/sample - loss: 0.5111 - acc: 0.8204 - val_loss: 0.9813 - val_acc: 0.7280\n",
            "Epoch 28/30\n",
            "124680/124680 [==============================] - 57s 454us/sample - loss: 0.5114 - acc: 0.8189 - val_loss: 0.9812 - val_acc: 0.7282\n",
            "Epoch 29/30\n",
            "124680/124680 [==============================] - 56s 452us/sample - loss: 0.5102 - acc: 0.8202 - val_loss: 0.9808 - val_acc: 0.7283\n",
            "Epoch 30/30\n",
            "124680/124680 [==============================] - 57s 458us/sample - loss: 0.5067 - acc: 0.8207 - val_loss: 0.9807 - val_acc: 0.7282\n"
          ],
          "name": "stdout"
        },
        {
          "output_type": "execute_result",
          "data": {
            "text/plain": [
              "<tensorflow.python.keras.callbacks.History at 0x7f3db067fa90>"
            ]
          },
          "metadata": {
            "tags": []
          },
          "execution_count": 106
        }
      ]
    },
    {
      "cell_type": "code",
      "metadata": {
        "id": "4JAau5jI-sdB",
        "colab_type": "code",
        "outputId": "3ab1a4c8-f1f7-491f-e6a4-8389519fa85a",
        "colab": {
          "base_uri": "https://localhost:8080/",
          "height": 34
        }
      },
      "source": [
        "predictor.save(os.path.join(root_path,'drugreview1_08.h5'))\n",
        "predictor.save_weights(os.path.join(root_path,'drugreview1_08_weights.h5'))\n",
        "print(\"Model has been saved\")"
      ],
      "execution_count": 107,
      "outputs": [
        {
          "output_type": "stream",
          "text": [
            "Model has been saved\n"
          ],
          "name": "stdout"
        }
      ]
    },
    {
      "cell_type": "code",
      "metadata": {
        "id": "wU3SFX1b-sdU",
        "colab_type": "code",
        "outputId": "8684f006-24d9-446c-bd31-bb08ffe9507f",
        "colab": {
          "base_uri": "https://localhost:8080/",
          "height": 51
        }
      },
      "source": [
        "predictor.evaluate(X_test_token,y_test)"
      ],
      "execution_count": 108,
      "outputs": [
        {
          "output_type": "stream",
          "text": [
            "41538/41538 [==============================] - 207s 5ms/sample - loss: 0.9807 - acc: 0.7282\n"
          ],
          "name": "stdout"
        },
        {
          "output_type": "execute_result",
          "data": {
            "text/plain": [
              "[0.9807373537499087, 0.7281525]"
            ]
          },
          "metadata": {
            "tags": []
          },
          "execution_count": 108
        }
      ]
    },
    {
      "cell_type": "markdown",
      "metadata": {
        "id": "lt6kW1wnbEgO",
        "colab_type": "text"
      },
      "source": [
        "## Summary\n",
        "The accuracy of the model is about 73% on testing set. There are ways to improve the model. The first one is to increase the number of LSTM cells in the first layer and the second layer. The second one is to have more layer of LSTM cells. The third way is to increase the number of fully connected layer."
      ]
    }
  ]
}